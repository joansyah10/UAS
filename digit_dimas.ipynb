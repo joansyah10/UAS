{
 "cells": [
  {
   "cell_type": "code",
<<<<<<< HEAD
   "execution_count": 3,
=======
   "execution_count": 47,
>>>>>>> a56b638cba1a93dfdb5693cfbca08794b26c8243
   "metadata": {},
   "outputs": [],
   "source": [
    "import numpy as np\n",
    "import matplotlib.pyplot as plt\n",
    "%matplotlib inline \n",
    "import seaborn as sns"
   ]
  },
  {
   "cell_type": "code",
<<<<<<< HEAD
   "execution_count": 4,
=======
   "execution_count": 48,
>>>>>>> a56b638cba1a93dfdb5693cfbca08794b26c8243
   "metadata": {},
   "outputs": [],
   "source": [
    "from sklearn.datasets import load_digits\n",
    "from sklearn.model_selection import train_test_split\n",
    "from mpl_toolkits.mplot3d import Axes3D\n",
    "from sklearn.neural_network import MLPClassifier\n",
    "from sklearn.model_selection import train_test_split\n",
    "from sklearn.metrics import accuracy_score\n",
    "from sklearn.metrics import confusion_matrix\n",
    "from sklearn import datasets\n",
    "from mpl_toolkits.mplot3d import Axes3D\n",
    "from sklearn.decomposition import PCA"
   ]
  },
  {
   "cell_type": "code",
<<<<<<< HEAD
   "execution_count": 5,
=======
   "execution_count": 49,
>>>>>>> a56b638cba1a93dfdb5693cfbca08794b26c8243
   "metadata": {},
   "outputs": [],
   "source": [
    "digits = load_digits()\n",
    "iris = datasets.load_iris()"
   ]
  },
  {
   "cell_type": "code",
<<<<<<< HEAD
   "execution_count": 6,
=======
   "execution_count": 50,
>>>>>>> a56b638cba1a93dfdb5693cfbca08794b26c8243
   "metadata": {},
   "outputs": [
    {
     "data": {
      "text/plain": [
       "['sepal length (cm)',\n",
       " 'sepal width (cm)',\n",
       " 'petal length (cm)',\n",
       " 'petal width (cm)']"
      ]
     },
<<<<<<< HEAD
     "execution_count": 6,
=======
     "execution_count": 50,
>>>>>>> a56b638cba1a93dfdb5693cfbca08794b26c8243
     "metadata": {},
     "output_type": "execute_result"
    }
   ],
   "source": [
    "iris.feature_names"
   ]
  },
  {
   "cell_type": "code",
<<<<<<< HEAD
   "execution_count": 7,
=======
   "execution_count": 51,
>>>>>>> a56b638cba1a93dfdb5693cfbca08794b26c8243
   "metadata": {},
   "outputs": [
    {
     "data": {
      "text/plain": [
       "(1797, 64)"
      ]
     },
<<<<<<< HEAD
     "execution_count": 7,
=======
     "execution_count": 51,
>>>>>>> a56b638cba1a93dfdb5693cfbca08794b26c8243
     "metadata": {},
     "output_type": "execute_result"
    }
   ],
   "source": [
    "digits.data.shape"
   ]
  },
  {
   "cell_type": "code",
<<<<<<< HEAD
   "execution_count": 8,
=======
   "execution_count": 52,
>>>>>>> a56b638cba1a93dfdb5693cfbca08794b26c8243
   "metadata": {},
   "outputs": [
    {
     "data": {
      "text/plain": [
       "array([ 0.,  0., 10., 14., 11.,  3.,  0.,  0.,  0.,  4., 16., 13.,  6.,\n",
       "       14.,  1.,  0.,  0.,  4., 16.,  2.,  0., 11.,  7.,  0.,  0.,  8.,\n",
       "       16.,  0.,  0., 10.,  5.,  0.,  0.,  8., 16.,  0.,  0., 14.,  4.,\n",
       "        0.,  0.,  8., 16.,  0.,  1., 16.,  1.,  0.,  0.,  4., 16.,  1.,\n",
       "       11., 15.,  0.,  0.,  0.,  0., 11., 16., 12.,  3.,  0.,  0.])"
      ]
     },
<<<<<<< HEAD
     "execution_count": 8,
=======
     "execution_count": 52,
>>>>>>> a56b638cba1a93dfdb5693cfbca08794b26c8243
     "metadata": {},
     "output_type": "execute_result"
    }
   ],
   "source": [
    "digits.data[30]"
   ]
  },
  {
   "cell_type": "code",
<<<<<<< HEAD
   "execution_count": 9,
=======
   "execution_count": 53,
>>>>>>> a56b638cba1a93dfdb5693cfbca08794b26c8243
   "metadata": {},
   "outputs": [
    {
     "data": {
      "text/plain": [
       "array([0, 1, 2, 3, 4, 5, 6, 7, 8, 9])"
      ]
     },
<<<<<<< HEAD
     "execution_count": 9,
=======
     "execution_count": 53,
>>>>>>> a56b638cba1a93dfdb5693cfbca08794b26c8243
     "metadata": {},
     "output_type": "execute_result"
    }
   ],
   "source": [
    "digits.target_names"
   ]
  },
  {
   "cell_type": "code",
<<<<<<< HEAD
   "execution_count": 10,
=======
   "execution_count": 54,
>>>>>>> a56b638cba1a93dfdb5693cfbca08794b26c8243
   "metadata": {},
   "outputs": [
    {
     "data": {
      "text/plain": [
       "(1797,)"
      ]
     },
<<<<<<< HEAD
     "execution_count": 10,
=======
     "execution_count": 54,
>>>>>>> a56b638cba1a93dfdb5693cfbca08794b26c8243
     "metadata": {},
     "output_type": "execute_result"
    }
   ],
   "source": [
    "digits.target.shape"
   ]
  },
  {
   "cell_type": "code",
<<<<<<< HEAD
   "execution_count": 11,
=======
   "execution_count": 55,
>>>>>>> a56b638cba1a93dfdb5693cfbca08794b26c8243
   "metadata": {},
   "outputs": [
    {
     "data": {
      "text/plain": [
       "0"
      ]
     },
<<<<<<< HEAD
     "execution_count": 11,
=======
     "execution_count": 55,
>>>>>>> a56b638cba1a93dfdb5693cfbca08794b26c8243
     "metadata": {},
     "output_type": "execute_result"
    }
   ],
   "source": [
    "digits.target[30]"
   ]
  },
  {
   "cell_type": "code",
<<<<<<< HEAD
   "execution_count": 12,
=======
   "execution_count": 56,
>>>>>>> a56b638cba1a93dfdb5693cfbca08794b26c8243
   "metadata": {},
   "outputs": [
    {
     "data": {
      "text/plain": [
<<<<<<< HEAD
       "<matplotlib.image.AxesImage at 0x19d8a7fd080>"
      ]
     },
     "execution_count": 12,
=======
       "<matplotlib.image.AxesImage at 0x12a3984bd68>"
      ]
     },
     "execution_count": 56,
>>>>>>> a56b638cba1a93dfdb5693cfbca08794b26c8243
     "metadata": {},
     "output_type": "execute_result"
    },
    {
     "data": {
      "text/plain": [
       "<Figure size 432x288 with 0 Axes>"
      ]
     },
     "metadata": {},
     "output_type": "display_data"
    },
    {
     "data": {
      "image/png": "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\n",
      "text/plain": [
       "<Figure size 288x288 with 1 Axes>"
      ]
     },
     "metadata": {
      "needs_background": "light"
     },
     "output_type": "display_data"
    }
   ],
   "source": [
    "import matplotlib.pyplot as plt \n",
    "plt.gray() \n",
    "plt.matshow(digits.images[28]) \n"
   ]
  },
  {
   "cell_type": "code",
<<<<<<< HEAD
   "execution_count": 13,
=======
   "execution_count": 57,
>>>>>>> a56b638cba1a93dfdb5693cfbca08794b26c8243
   "metadata": {},
   "outputs": [],
   "source": [
    "X = digits.data\n",
    "y = digits.target\n",
    "# Membagi data training dan testing(80:20)\n",
    "x_train, x_test, y_train, y_test = train_test_split(X,y, test_size= 0.2, random_state=1)"
   ]
  },
  {
   "cell_type": "code",
<<<<<<< HEAD
   "execution_count": 14,
=======
   "execution_count": 58,
>>>>>>> a56b638cba1a93dfdb5693cfbca08794b26c8243
   "metadata": {},
   "outputs": [
    {
     "data": {
      "text/plain": [
       "(1437, 64)"
      ]
     },
<<<<<<< HEAD
     "execution_count": 14,
=======
     "execution_count": 58,
>>>>>>> a56b638cba1a93dfdb5693cfbca08794b26c8243
     "metadata": {},
     "output_type": "execute_result"
    }
   ],
   "source": [
    "x_train.shape"
   ]
  },
  {
   "cell_type": "code",
<<<<<<< HEAD
   "execution_count": 15,
=======
   "execution_count": 59,
>>>>>>> a56b638cba1a93dfdb5693cfbca08794b26c8243
   "metadata": {},
   "outputs": [
    {
     "data": {
      "text/plain": [
       "(360, 64)"
      ]
     },
<<<<<<< HEAD
     "execution_count": 15,
=======
     "execution_count": 59,
>>>>>>> a56b638cba1a93dfdb5693cfbca08794b26c8243
     "metadata": {},
     "output_type": "execute_result"
    }
   ],
   "source": [
    "x_test.shape"
   ]
  },
  {
   "cell_type": "code",
<<<<<<< HEAD
   "execution_count": 16,
=======
   "execution_count": 60,
>>>>>>> a56b638cba1a93dfdb5693cfbca08794b26c8243
   "metadata": {},
   "outputs": [
    {
     "data": {
      "text/plain": [
       "(360,)"
      ]
     },
<<<<<<< HEAD
     "execution_count": 16,
=======
     "execution_count": 60,
>>>>>>> a56b638cba1a93dfdb5693cfbca08794b26c8243
     "metadata": {},
     "output_type": "execute_result"
    }
   ],
   "source": [
    "y_test.shape"
   ]
  },
  {
   "cell_type": "code",
<<<<<<< HEAD
   "execution_count": 17,
=======
   "execution_count": 68,
>>>>>>> a56b638cba1a93dfdb5693cfbca08794b26c8243
   "metadata": {},
   "outputs": [],
   "source": [
    "clf = MLPClassifier(hidden_layer_sizes=(10,10,10),  max_iter=150, alpha=0.0001,activation='tanh',\n",
    "                     solver='adam', verbose=10,  random_state=21,tol=0.000000001)"
   ]
  },
  {
   "cell_type": "code",
<<<<<<< HEAD
   "execution_count": 18,
=======
   "execution_count": 69,
>>>>>>> a56b638cba1a93dfdb5693cfbca08794b26c8243
   "metadata": {},
   "outputs": [
    {
     "name": "stdout",
     "output_type": "stream",
     "text": [
      "Iteration 1, loss = 2.40493568\n",
      "Iteration 2, loss = 2.31510156\n",
      "Iteration 3, loss = 2.25015573\n",
      "Iteration 4, loss = 2.19901435\n",
      "Iteration 5, loss = 2.15691771\n",
      "Iteration 6, loss = 2.11841522\n",
      "Iteration 7, loss = 2.08110087\n",
      "Iteration 8, loss = 2.04124766\n",
      "Iteration 9, loss = 1.99724178\n",
      "Iteration 10, loss = 1.95427959\n",
      "Iteration 11, loss = 1.90153276\n",
      "Iteration 12, loss = 1.84645790\n",
      "Iteration 13, loss = 1.79284386\n",
      "Iteration 14, loss = 1.73975017\n",
      "Iteration 15, loss = 1.68900842\n",
      "Iteration 16, loss = 1.64154186\n",
      "Iteration 17, loss = 1.59450436\n",
      "Iteration 18, loss = 1.54868584\n",
      "Iteration 19, loss = 1.50395567\n",
      "Iteration 20, loss = 1.46231103\n",
      "Iteration 21, loss = 1.42237023\n",
      "Iteration 22, loss = 1.38289172\n",
      "Iteration 23, loss = 1.34646294\n",
      "Iteration 24, loss = 1.31285416\n",
      "Iteration 25, loss = 1.28050281\n",
      "Iteration 26, loss = 1.25066769\n",
      "Iteration 27, loss = 1.22441999\n",
      "Iteration 28, loss = 1.19631108\n",
      "Iteration 29, loss = 1.17035317\n",
      "Iteration 30, loss = 1.14316767\n",
      "Iteration 31, loss = 1.12271792\n",
      "Iteration 32, loss = 1.09610516\n",
      "Iteration 33, loss = 1.07550978\n",
      "Iteration 34, loss = 1.05432410\n",
      "Iteration 35, loss = 1.03475621\n",
      "Iteration 36, loss = 1.01652946\n",
      "Iteration 37, loss = 0.99895234\n",
      "Iteration 38, loss = 0.97961818\n",
      "Iteration 39, loss = 0.96409714\n",
      "Iteration 40, loss = 0.94791027\n",
      "Iteration 41, loss = 0.93079225\n",
      "Iteration 42, loss = 0.91496923\n",
      "Iteration 43, loss = 0.89973260\n",
      "Iteration 44, loss = 0.88444406\n",
      "Iteration 45, loss = 0.87099036\n",
      "Iteration 46, loss = 0.85572641\n",
      "Iteration 47, loss = 0.84296311\n",
      "Iteration 48, loss = 0.83123289\n",
      "Iteration 49, loss = 0.81642009\n",
      "Iteration 50, loss = 0.80290716\n",
      "Iteration 51, loss = 0.79149102\n",
      "Iteration 52, loss = 0.77737583\n",
      "Iteration 53, loss = 0.76387898\n",
      "Iteration 54, loss = 0.75150893\n",
      "Iteration 55, loss = 0.74148296\n",
      "Iteration 56, loss = 0.72387533\n",
      "Iteration 57, loss = 0.71547937\n",
      "Iteration 58, loss = 0.70315780\n",
      "Iteration 59, loss = 0.69108945\n",
      "Iteration 60, loss = 0.68494359\n",
      "Iteration 61, loss = 0.67162247\n",
      "Iteration 62, loss = 0.66049063\n",
      "Iteration 63, loss = 0.65166054\n",
      "Iteration 64, loss = 0.64107370\n",
      "Iteration 65, loss = 0.63131859\n",
      "Iteration 66, loss = 0.61859772\n",
      "Iteration 67, loss = 0.61009542\n",
      "Iteration 68, loss = 0.60059915\n",
      "Iteration 69, loss = 0.59417823\n",
      "Iteration 70, loss = 0.58919165\n",
      "Iteration 71, loss = 0.58041911\n",
      "Iteration 72, loss = 0.57154703\n",
      "Iteration 73, loss = 0.56571425\n",
      "Iteration 74, loss = 0.56128500\n",
      "Iteration 75, loss = 0.55016550\n",
      "Iteration 76, loss = 0.54374399\n",
      "Iteration 77, loss = 0.53795158\n",
      "Iteration 78, loss = 0.52951911\n",
      "Iteration 79, loss = 0.52100415\n",
      "Iteration 80, loss = 0.51979536\n",
      "Iteration 81, loss = 0.51085788\n",
      "Iteration 82, loss = 0.50808500\n",
      "Iteration 83, loss = 0.49809431\n",
      "Iteration 84, loss = 0.49203013\n",
      "Iteration 85, loss = 0.48645355\n",
      "Iteration 86, loss = 0.48133475\n",
      "Iteration 87, loss = 0.47629602\n",
      "Iteration 88, loss = 0.47071641\n",
      "Iteration 89, loss = 0.46771478\n",
      "Iteration 90, loss = 0.46131273\n",
      "Iteration 91, loss = 0.45737055\n",
      "Iteration 92, loss = 0.45388636\n",
      "Iteration 93, loss = 0.44776051\n",
      "Iteration 94, loss = 0.44589777\n",
      "Iteration 95, loss = 0.44023056\n",
      "Iteration 96, loss = 0.43523054\n",
      "Iteration 97, loss = 0.43163393\n",
      "Iteration 98, loss = 0.42724515\n",
      "Iteration 99, loss = 0.42426422\n",
      "Iteration 100, loss = 0.42130276\n",
      "Iteration 101, loss = 0.41511350\n",
      "Iteration 102, loss = 0.41324582\n",
      "Iteration 103, loss = 0.40682555\n",
      "Iteration 104, loss = 0.40424970\n",
      "Iteration 105, loss = 0.39948909\n",
      "Iteration 106, loss = 0.39601440\n",
      "Iteration 107, loss = 0.39146850\n",
      "Iteration 108, loss = 0.38755808\n",
      "Iteration 109, loss = 0.38249373\n",
      "Iteration 110, loss = 0.37801632\n",
      "Iteration 111, loss = 0.37186586\n",
      "Iteration 112, loss = 0.37208097\n",
      "Iteration 113, loss = 0.36493979\n",
      "Iteration 114, loss = 0.36510862\n",
      "Iteration 115, loss = 0.35655750\n",
      "Iteration 116, loss = 0.35526927\n",
      "Iteration 117, loss = 0.34779258\n",
      "Iteration 118, loss = 0.34430633\n",
      "Iteration 119, loss = 0.33935226\n",
      "Iteration 120, loss = 0.33606224\n",
      "Iteration 121, loss = 0.33274073\n",
      "Iteration 122, loss = 0.32906204\n",
      "Iteration 123, loss = 0.32712397\n",
      "Iteration 124, loss = 0.32269101\n",
      "Iteration 125, loss = 0.31984746\n",
      "Iteration 126, loss = 0.31706202\n",
      "Iteration 127, loss = 0.31358883\n",
      "Iteration 128, loss = 0.31162639\n",
      "Iteration 129, loss = 0.30743505\n",
      "Iteration 130, loss = 0.30466097\n",
      "Iteration 131, loss = 0.30281536\n",
      "Iteration 132, loss = 0.30113630\n",
      "Iteration 133, loss = 0.29805070\n",
      "Iteration 134, loss = 0.29964444\n",
      "Iteration 135, loss = 0.29472539\n",
      "Iteration 136, loss = 0.29354489\n",
      "Iteration 137, loss = 0.28903991\n",
      "Iteration 138, loss = 0.28694874\n",
      "Iteration 139, loss = 0.28329369\n",
      "Iteration 140, loss = 0.28257634\n",
      "Iteration 141, loss = 0.28196579\n",
      "Iteration 142, loss = 0.27954837\n",
      "Iteration 143, loss = 0.27578219\n",
      "Iteration 144, loss = 0.27280574\n",
      "Iteration 145, loss = 0.27119130\n",
      "Iteration 146, loss = 0.26777025\n",
      "Iteration 147, loss = 0.26454050\n",
      "Iteration 148, loss = 0.26143985\n",
      "Iteration 149, loss = 0.25835030\n",
      "Iteration 150, loss = 0.25778795\n"
     ]
    },
    {
     "name": "stderr",
     "output_type": "stream",
     "text": [
      "c:\\program files\\python37\\lib\\site-packages\\sklearn\\neural_network\\multilayer_perceptron.py:562: ConvergenceWarning: Stochastic Optimizer: Maximum iterations (150) reached and the optimization hasn't converged yet.\n",
      "  % self.max_iter, ConvergenceWarning)\n"
     ]
    }
   ],
   "source": [
    "clf.fit(x_train, y_train)\n",
    "y_pred = clf.predict(x_test)"
   ]
  },
  {
   "cell_type": "code",
<<<<<<< HEAD
   "execution_count": 19,
=======
   "execution_count": 70,
>>>>>>> a56b638cba1a93dfdb5693cfbca08794b26c8243
   "metadata": {},
   "outputs": [],
   "source": [
    "loss_values = clf.loss_curve_"
   ]
  },
  {
   "cell_type": "code",
<<<<<<< HEAD
   "execution_count": 20,
=======
   "execution_count": 71,
>>>>>>> a56b638cba1a93dfdb5693cfbca08794b26c8243
   "metadata": {},
   "outputs": [
    {
     "data": {
      "text/plain": [
<<<<<<< HEAD
       "[<matplotlib.lines.Line2D at 0x19d8a7cb278>]"
      ]
     },
     "execution_count": 20,
=======
       "[<matplotlib.lines.Line2D at 0x12a3876e668>]"
      ]
     },
     "execution_count": 71,
>>>>>>> a56b638cba1a93dfdb5693cfbca08794b26c8243
     "metadata": {},
     "output_type": "execute_result"
    },
    {
     "data": {
      "image/png": "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\n",
      "text/plain": [
       "<Figure size 432x288 with 1 Axes>"
      ]
     },
     "metadata": {
      "needs_background": "light"
     },
     "output_type": "display_data"
    }
   ],
   "source": [
    "plt.plot(loss_values)"
   ]
  },
  {
   "cell_type": "code",
<<<<<<< HEAD
   "execution_count": 21,
=======
   "execution_count": 79,
>>>>>>> a56b638cba1a93dfdb5693cfbca08794b26c8243
   "metadata": {},
   "outputs": [
    {
     "data": {
      "text/plain": [
<<<<<<< HEAD
       "0.89"
      ]
     },
     "execution_count": 21,
=======
       "0.886"
      ]
     },
     "execution_count": 79,
>>>>>>> a56b638cba1a93dfdb5693cfbca08794b26c8243
     "metadata": {},
     "output_type": "execute_result"
    }
   ],
   "source": [
<<<<<<< HEAD
    "round(accuracy_score(y_test, y_pred),2)"
=======
    "round(accuracy_score(y_test, y_pred),3)"
>>>>>>> a56b638cba1a93dfdb5693cfbca08794b26c8243
   ]
  },
  {
   "cell_type": "code",
<<<<<<< HEAD
   "execution_count": 22,
=======
   "execution_count": 80,
>>>>>>> a56b638cba1a93dfdb5693cfbca08794b26c8243
   "metadata": {},
   "outputs": [
    {
     "data": {
      "text/plain": [
       "array([[40,  0,  0,  0,  1,  1,  0,  0,  0,  1],\n",
       "       [ 0, 32,  0,  0,  2,  0,  0,  0,  1,  0],\n",
       "       [ 0,  0, 32,  0,  0,  0,  0,  1,  3,  0],\n",
       "       [ 0,  0,  0, 32,  0,  0,  0,  2,  7,  0],\n",
       "       [ 0,  0,  0,  0, 38,  0,  0,  0,  0,  0],\n",
       "       [ 0,  1,  0,  0,  0, 26,  1,  1,  1,  0],\n",
       "       [ 0,  0,  0,  0,  0,  1, 36,  0,  0,  0],\n",
       "       [ 0,  0,  0,  0,  0,  3,  1, 33,  0,  0],\n",
       "       [ 0,  2,  0,  2,  1,  2,  0,  0, 22,  0],\n",
       "       [ 0,  0,  0,  0,  0,  1,  0,  0,  5, 28]], dtype=int64)"
      ]
     },
<<<<<<< HEAD
     "execution_count": 22,
=======
     "execution_count": 80,
>>>>>>> a56b638cba1a93dfdb5693cfbca08794b26c8243
     "metadata": {},
     "output_type": "execute_result"
    }
   ],
   "source": [
    "cm = confusion_matrix(y_test, y_pred)\n",
    "cm"
   ]
  },
  {
   "cell_type": "code",
<<<<<<< HEAD
   "execution_count": 23,
=======
   "execution_count": 81,
>>>>>>> a56b638cba1a93dfdb5693cfbca08794b26c8243
   "metadata": {},
   "outputs": [
    {
     "data": {
      "image/png": "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\n",
      "text/plain": [
       "<Figure size 432x288 with 2 Axes>"
      ]
     },
     "metadata": {
      "needs_background": "light"
     },
     "output_type": "display_data"
    }
   ],
   "source": [
    "sns.heatmap(cm, center=True,annot=True)\n",
    "plt.show()"
   ]
  },
  {
   "cell_type": "code",
   "execution_count": null,
   "metadata": {},
   "outputs": [],
   "source": []
  }
 ],
 "metadata": {
  "kernelspec": {
   "display_name": "Python 3",
   "language": "python",
   "name": "python3"
  },
  "language_info": {
   "codemirror_mode": {
    "name": "ipython",
    "version": 3
   },
   "file_extension": ".py",
   "mimetype": "text/x-python",
   "name": "python",
   "nbconvert_exporter": "python",
   "pygments_lexer": "ipython3",
   "version": "3.7.0"
  }
 },
 "nbformat": 4,
 "nbformat_minor": 2
}
